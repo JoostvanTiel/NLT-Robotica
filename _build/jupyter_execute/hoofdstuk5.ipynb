{
 "cells": [
  {
   "cell_type": "markdown",
   "id": "3ccee668",
   "metadata": {},
   "source": [
    "# Hoofdstuk 5: Condities en loops\n",
    "\n",
    "## operatoren\n",
    "Om condities te kunnen checken worden de volgende operatoren gebruikt:\n",
    "\n",
    "| Operator | Naam                      | Voorbeeld |\n",
    "|:---------|:--------------------------|:----------|\n",
    "| ==       | Gelijk aan                | x == y    |\n",
    "| !=       | Niet gelijk aan           | x != y    |\n",
    "| >        | Groter dan                | x > y     |\n",
    "| <        | Kleiner dan               | x < y     |\n",
    "| >=       | Groter dan of gelijk aan  | x >= y    |\n",
    "| <=       | Kleiner dan of gelijk aan | x <= y    |\n",
    "\n",
    "## if statements\n",
    "\n",
    "\tif conditie:\n",
    "\t\tinstructies...\n",
    "\telif andere_conditie: # optioneel\n",
    "\t\tinstructies...\n",
    "\telse:\t\t      # optioneel\n",
    "\t\tinstructies..."
   ]
  },
  {
   "cell_type": "code",
   "execution_count": 1,
   "id": "ddb06a29",
   "metadata": {
    "tags": [
     "ifStatement"
    ]
   },
   "outputs": [
    {
     "name": "stdout",
     "output_type": "stream",
     "text": [
      "x is groter dan y.\n"
     ]
    }
   ],
   "source": [
    "x = 8\n",
    "y = 5\n",
    "\n",
    "if x < y:\n",
    "\tprint(\"y is groter dan x.\")\n",
    "elif x == y:\n",
    "\tprint(\"y is gelijk aan x.\")\n",
    "else:\n",
    "\tprint(\"x is groter dan y.\")"
   ]
  },
  {
   "cell_type": "markdown",
   "id": "2928fc3a",
   "metadata": {},
   "source": [
    "Meerdere condities tegelijk checken\n",
    "\n",
    "| Operator | Beschrijving                                                          | Voorbeeld             |\n",
    "|:---------|:----------------------------------------------------------------------|:----------------------|\n",
    "| and      | Retourneert `True` als beide condities waar zijn.                     | x < 5 and y > 10      |\n",
    "| or       | Retourneert `True` als één van beide condities waar is.               | x < 5 or y > 10       |\n",
    "| not      | Keert het resultaat om, retourneert `False` als het resultaat waar is.| not(x < 5 and y > 10) |\n",
    "\n",
    "Bijvoorbeeld:"
   ]
  },
  {
   "cell_type": "code",
   "execution_count": 2,
   "id": "56fdf13e",
   "metadata": {
    "tags": [
     "ifStatement"
    ]
   },
   "outputs": [
    {
     "name": "stdout",
     "output_type": "stream",
     "text": [
      "x is het kleinste getal.\n",
      "y is niet het grootste getal.\n",
      "z is het grootste getal.\n"
     ]
    }
   ],
   "source": [
    "x = 3\n",
    "y = 6\n",
    "z = 9\n",
    "\n",
    "if x < y and y < z:\n",
    "\tprint(\"x is het kleinste getal.\")\n",
    "\n",
    "if x > y and z > y:\n",
    "\tprint(\"y is het kleinste getal.\")\n",
    "elif x > y or z > y:\n",
    "\tprint(\"y is niet het grootste getal.\")\n",
    "\n",
    "if z < y and z < x:\n",
    "\tprint(\"z is het kleinste getal.\")\n",
    "elif not(z < y and z < x):\n",
    "\tprint(\"z is het grootste getal.\")"
   ]
  },
  {
   "cell_type": "markdown",
   "id": "183bb027",
   "metadata": {},
   "source": [
    "## while loops\n",
    "\n",
    "\twhile conditie:\n",
    "\t\tinstructies..."
   ]
  },
  {
   "cell_type": "code",
   "execution_count": 3,
   "id": "7e07eeb2",
   "metadata": {
    "tags": [
     "whileLoop"
    ]
   },
   "outputs": [
    {
     "name": "stdout",
     "output_type": "stream",
     "text": [
      "0\n",
      "1\n",
      "2\n",
      "3\n",
      "4\n",
      "5\n",
      "6\n",
      "7\n",
      "8\n",
      "9\n"
     ]
    }
   ],
   "source": [
    "done = False\n",
    "n = 0\n",
    "\n",
    "while not done:\n",
    "\tif n >= 10:\n",
    "\t\tdone = True\n",
    "\telse: \n",
    "\t\tprint(n)\n",
    "\t\tn = n + 1"
   ]
  },
  {
   "cell_type": "markdown",
   "id": "fe9b2f60",
   "metadata": {},
   "source": [
    "## for loops\n",
    "\n",
    "\tfor x in range(getal):\n",
    "\t\tinstructies..."
   ]
  },
  {
   "cell_type": "code",
   "execution_count": 4,
   "id": "be92a8e9",
   "metadata": {
    "tags": [
     "ifStatement"
    ]
   },
   "outputs": [
    {
     "name": "stdout",
     "output_type": "stream",
     "text": [
      "0\n",
      "1\n",
      "2\n",
      "3\n",
      "4\n",
      "5\n",
      "6\n",
      "7\n",
      "8\n",
      "9\n"
     ]
    }
   ],
   "source": [
    "for x in range(10):\n",
    "\tprint(x)"
   ]
  }
 ],
 "metadata": {
  "jupytext": {
   "formats": "md:myst",
   "text_representation": {
    "extension": ".md",
    "format_name": "myst"
   }
  },
  "kernelspec": {
   "display_name": "Python 3",
   "language": "python",
   "name": "python3"
  },
  "language_info": {
   "codemirror_mode": {
    "name": "ipython",
    "version": 3
   },
   "file_extension": ".py",
   "mimetype": "text/x-python",
   "name": "python",
   "nbconvert_exporter": "python",
   "pygments_lexer": "ipython3",
   "version": "3.12.0"
  },
  "source_map": [
   11,
   36,
   48,
   59,
   78,
   85,
   97,
   104
  ]
 },
 "nbformat": 4,
 "nbformat_minor": 5
}