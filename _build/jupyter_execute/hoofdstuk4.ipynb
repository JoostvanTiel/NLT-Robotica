{
 "cells": [
  {
   "cell_type": "markdown",
   "id": "a3dafb4a",
   "metadata": {},
   "source": [
    "# Hoofdstuk 4: Condities en loops\n",
    "\n",
    "Some **intro Markdown**!"
   ]
  },
  {
   "cell_type": "code",
   "execution_count": 1,
   "id": "d4e31b78",
   "metadata": {
    "tags": [
     "ifStatement"
    ]
   },
   "outputs": [
    {
     "name": "stdout",
     "output_type": "stream",
     "text": [
      "Je mag autorijden, maar wel met een begeleider\n"
     ]
    }
   ],
   "source": [
    "leeftijd = 17 # Vervang dit met je eigen leeftijd\n",
    "\n",
    "if leeftijd < 17:\n",
    "\tprint(\"Je bent te jong om auto te rijden\")\n",
    "elif leeftijd < 18:\n",
    "\tprint(\"Je mag autorijden, maar wel met een begeleider\")\n",
    "else:\n",
    "\tprint(\"Je bent oud genoeg om auto te mogen rijden.\")"
   ]
  },
  {
   "cell_type": "markdown",
   "id": "ea0d37e8",
   "metadata": {},
   "source": [
    "## A section\n",
    "\n",
    "And some more Markdown..."
   ]
  }
 ],
 "metadata": {
  "jupytext": {
   "formats": "md:myst",
   "text_representation": {
    "extension": ".md",
    "format_name": "myst"
   }
  },
  "kernelspec": {
   "display_name": "Python 3",
   "language": "python",
   "name": "python3"
  },
  "language_info": {
   "codemirror_mode": {
    "name": "ipython",
    "version": 3
   },
   "file_extension": ".py",
   "mimetype": "text/x-python",
   "name": "python",
   "nbconvert_exporter": "python",
   "pygments_lexer": "ipython3",
   "version": "3.12.0"
  },
  "source_map": [
   11,
   17,
   28
  ]
 },
 "nbformat": 4,
 "nbformat_minor": 5
}